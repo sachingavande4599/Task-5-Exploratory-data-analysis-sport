{
  "nbformat": 4,
  "nbformat_minor": 0,
  "metadata": {
    "colab": {
      "private_outputs": true,
      "provenance": [],
      "include_colab_link": true
    },
    "kernelspec": {
      "name": "python3",
      "display_name": "Python 3"
    },
    "language_info": {
      "name": "python"
    }
  },
  "cells": [
    {
      "cell_type": "markdown",
      "metadata": {
        "id": "view-in-github",
        "colab_type": "text"
      },
      "source": [
        "<a href=\"https://colab.research.google.com/github/sachingavande4599/Task-5-Exploratory-data-analysis-sport/blob/main/IPL_DATA.ipynb\" target=\"_parent\"><img src=\"https://colab.research.google.com/assets/colab-badge.svg\" alt=\"Open In Colab\"/></a>"
      ]
    },
    {
      "cell_type": "markdown",
      "source": [
        "* **The Sparks Foundation**\n",
        "\n"
      ],
      "metadata": {
        "id": "_8JaWdByvecA"
      }
    },
    {
      "cell_type": "markdown",
      "source": [
        "**GRIP (Graduate Rotational Internship Program) March 2023**"
      ],
      "metadata": {
        "id": "bBlawoVrswA7"
      }
    },
    {
      "cell_type": "markdown",
      "source": [
        "# Project Name - Indian Premier League"
      ],
      "metadata": {
        "id": "ddpZWQz6siSp"
      }
    },
    {
      "cell_type": "markdown",
      "source": [
        "**Project Type** - TASK-05 (Exploratory Data Analysis - Sports)\n",
        "\n",
        "**Domain** : Data Science & Business Analytics\n",
        "\n",
        "**Name** -Sachin Shivaji Gavande"
      ],
      "metadata": {
        "id": "beRrZCGUAJYm"
      }
    },
    {
      "cell_type": "markdown",
      "source": [
        "[Dataset's Link](https://bit.ly/34SRn3b)"
      ],
      "metadata": {
        "id": "m6fkKOH_1JdH"
      }
    },
    {
      "cell_type": "markdown",
      "source": [
        "# **Problem Statement**\n"
      ],
      "metadata": {
        "id": "yQaldy8SH6Dl"
      }
    },
    {
      "cell_type": "markdown",
      "source": [
        "* Perform ‘Exploratory Data Analysis’ on dataset ‘Indian Premier League’\n",
        "\n",
        "* As a sports analysts, find out the most successful teams, players and factors contributing win or loss of a team.\n",
        "\n",
        "* Suggest teams or players a company should endorse for its products."
      ],
      "metadata": {
        "id": "DpeJGUA3kjGy"
      }
    },
    {
      "cell_type": "markdown",
      "source": [
        "# ***Let's Begin !***"
      ],
      "metadata": {
        "id": "O_i_v8NEhb9l"
      }
    },
    {
      "cell_type": "markdown",
      "source": [
        "## ***1. Know Your Data***"
      ],
      "metadata": {
        "id": "HhfV-JJviCcP"
      }
    },
    {
      "cell_type": "markdown",
      "source": [
        "### Import Libraries"
      ],
      "metadata": {
        "id": "Y3lxredqlCYt"
      }
    },
    {
      "cell_type": "code",
      "source": [
        "import numpy as np\n",
        "import pandas as pd\n",
        "import matplotlib.pyplot as plt \n",
        "import seaborn as sns\n",
        "%matplotlib inline\n",
        "import warnings\n",
        "warnings.filterwarnings('ignore')"
      ],
      "metadata": {
        "id": "1_iRiMDEiHq8"
      },
      "execution_count": null,
      "outputs": []
    },
    {
      "cell_type": "markdown",
      "source": [
        "### Dataset Loading"
      ],
      "metadata": {
        "id": "3RnN4peoiCZX"
      }
    },
    {
      "cell_type": "code",
      "source": [
        "# Load Dataset "
      ],
      "metadata": {
        "id": "4CkvbW_SlZ_R"
      },
      "execution_count": null,
      "outputs": []
    },
    {
      "cell_type": "code",
      "source": [
        "from google.colab import drive\n",
        "drive.mount('/content/drive')"
      ],
      "metadata": {
        "id": "57b1jCq8igwe"
      },
      "execution_count": null,
      "outputs": []
    },
    {
      "cell_type": "code",
      "source": [
        "Data = pd.read_csv(\"/content/drive/MyDrive/IPL CAPSTON/matches.csv\")\n",
        "\n",
        "matches_df = pd.DataFrame(Data)\n",
        "\n",
        "print(\"Data has been successfully imported\")"
      ],
      "metadata": {
        "id": "xhk2saS5i83q"
      },
      "execution_count": null,
      "outputs": []
    },
    {
      "cell_type": "markdown",
      "source": [
        "### Dataset First View"
      ],
      "metadata": {
        "id": "x71ZqKXriCWQ"
      }
    },
    {
      "cell_type": "code",
      "source": [
        "# Dataset 1 First Look"
      ],
      "metadata": {
        "id": "LWNFOSvLl09H"
      },
      "execution_count": null,
      "outputs": []
    },
    {
      "cell_type": "code",
      "source": [
        "matches_df.head()"
      ],
      "metadata": {
        "id": "Lbg27fsQkUXK"
      },
      "execution_count": null,
      "outputs": []
    },
    {
      "cell_type": "code",
      "source": [
        "# Load Dataset 2"
      ],
      "metadata": {
        "id": "_ClZZu_3v-tU"
      },
      "execution_count": null,
      "outputs": []
    },
    {
      "cell_type": "code",
      "source": [
        "deliveries_df = pd.read_csv(\"/content/drive/MyDrive/IPL CAPSTON/deliveries.csv\")"
      ],
      "metadata": {
        "id": "4A3mTFhayXnZ"
      },
      "execution_count": null,
      "outputs": []
    },
    {
      "cell_type": "code",
      "source": [
        "# Dataset 2 First Look"
      ],
      "metadata": {
        "id": "oGtITaIKwMFN"
      },
      "execution_count": null,
      "outputs": []
    },
    {
      "cell_type": "code",
      "source": [
        "deliveries_df.head()"
      ],
      "metadata": {
        "id": "QGsdPswRwKq5"
      },
      "execution_count": null,
      "outputs": []
    },
    {
      "cell_type": "markdown",
      "source": [
        "### Dataset Rows & Columns count"
      ],
      "metadata": {
        "id": "7hBIi_osiCS2"
      }
    },
    {
      "cell_type": "code",
      "source": [
        "#dataset 1 rows and columns"
      ],
      "metadata": {
        "id": "Kllu7SJgmLij"
      },
      "execution_count": null,
      "outputs": []
    },
    {
      "cell_type": "code",
      "source": [
        "matches_df.shape"
      ],
      "metadata": {
        "id": "5IHei9-Zmyom"
      },
      "execution_count": null,
      "outputs": []
    },
    {
      "cell_type": "code",
      "source": [
        "#dataset 2 rows and columns"
      ],
      "metadata": {
        "id": "imhnYsUawuno"
      },
      "execution_count": null,
      "outputs": []
    },
    {
      "cell_type": "code",
      "source": [
        "deliveries_df.shape"
      ],
      "metadata": {
        "id": "9ztHAxAegTBr"
      },
      "execution_count": null,
      "outputs": []
    },
    {
      "cell_type": "markdown",
      "source": [
        "### Dataset Information"
      ],
      "metadata": {
        "id": "JlHwYmJAmNHm"
      }
    },
    {
      "cell_type": "code",
      "source": [
        "# Dataset 1 Info"
      ],
      "metadata": {
        "id": "e9hRXRi6meOf"
      },
      "execution_count": null,
      "outputs": []
    },
    {
      "cell_type": "code",
      "source": [
        "matches_df.info()"
      ],
      "metadata": {
        "id": "fIof0VEjiBID"
      },
      "execution_count": null,
      "outputs": []
    },
    {
      "cell_type": "code",
      "source": [
        "# Dataset 2 Info"
      ],
      "metadata": {
        "id": "X0S7QUkOw4dq"
      },
      "execution_count": null,
      "outputs": []
    },
    {
      "cell_type": "code",
      "source": [
        "deliveries_df.info()"
      ],
      "metadata": {
        "id": "Z9bOXWNxiA8v"
      },
      "execution_count": null,
      "outputs": []
    },
    {
      "cell_type": "markdown",
      "source": [
        "#### Duplicate Values"
      ],
      "metadata": {
        "id": "35m5QtbWiB9F"
      }
    },
    {
      "cell_type": "code",
      "source": [
        "# Dataset 1 duplicate values"
      ],
      "metadata": {
        "id": "1sLdpKYkmox0"
      },
      "execution_count": null,
      "outputs": []
    },
    {
      "cell_type": "code",
      "source": [
        "matches_df.duplicated()"
      ],
      "metadata": {
        "id": "hIKkBmJbi6cB"
      },
      "execution_count": null,
      "outputs": []
    },
    {
      "cell_type": "code",
      "source": [
        "# Dataset 2 duplicate values"
      ],
      "metadata": {
        "id": "4Q5VJdpXxJgW"
      },
      "execution_count": null,
      "outputs": []
    },
    {
      "cell_type": "code",
      "source": [
        "deliveries_df.duplicated()"
      ],
      "metadata": {
        "id": "hspKH_3Ei6Q2"
      },
      "execution_count": null,
      "outputs": []
    },
    {
      "cell_type": "markdown",
      "source": [
        "#### Missing Values/Null Values"
      ],
      "metadata": {
        "id": "PoPl-ycgm1ru"
      }
    },
    {
      "cell_type": "code",
      "source": [
        "# Missing Values/Null Values Count of data set 1"
      ],
      "metadata": {
        "id": "GgHWkxvamxVg"
      },
      "execution_count": null,
      "outputs": []
    },
    {
      "cell_type": "code",
      "source": [
        "matches_df.isnull().sum()"
      ],
      "metadata": {
        "id": "WdKqe7Z_mjT_"
      },
      "execution_count": null,
      "outputs": []
    },
    {
      "cell_type": "code",
      "source": [
        "matches_df.isnull().sum().sum()"
      ],
      "metadata": {
        "id": "cvWQuishm6BT"
      },
      "execution_count": null,
      "outputs": []
    },
    {
      "cell_type": "code",
      "source": [
        "# Missing Values/Null Values Count of data set 2"
      ],
      "metadata": {
        "id": "tZL4BykMxWbB"
      },
      "execution_count": null,
      "outputs": []
    },
    {
      "cell_type": "code",
      "source": [
        "deliveries_df.isnull().sum()"
      ],
      "metadata": {
        "id": "Y7gNz7SD04vw"
      },
      "execution_count": null,
      "outputs": []
    },
    {
      "cell_type": "code",
      "source": [
        "deliveries_df.isnull().sum().sum()"
      ],
      "metadata": {
        "id": "qirwiTbgEuQb"
      },
      "execution_count": null,
      "outputs": []
    },
    {
      "cell_type": "code",
      "source": [
        "# Visualizing the missing values data set 1"
      ],
      "metadata": {
        "id": "3q5wnI3om9sJ"
      },
      "execution_count": null,
      "outputs": []
    },
    {
      "cell_type": "code",
      "source": [
        "sns.heatmap(matches_df.isnull(), cbar=False, cmap='GnBu_r')"
      ],
      "metadata": {
        "id": "4EAg7fDUxx5K"
      },
      "execution_count": null,
      "outputs": []
    },
    {
      "cell_type": "code",
      "source": [
        "# Visualizing the missing values data set 2"
      ],
      "metadata": {
        "id": "9FhatKGFx0kB"
      },
      "execution_count": null,
      "outputs": []
    },
    {
      "cell_type": "code",
      "source": [
        "plt.figure(figsize=(8,5))\n",
        "sns.heatmap(deliveries_df.isnull(), cbar=False, cmap='viridis')"
      ],
      "metadata": {
        "id": "ztgn8smmxS32"
      },
      "execution_count": null,
      "outputs": []
    },
    {
      "cell_type": "markdown",
      "source": [
        "## ***2. Understanding Your Variables***"
      ],
      "metadata": {
        "id": "nA9Y7ga8ng1Z"
      }
    },
    {
      "cell_type": "code",
      "source": [
        "# Dataset Columns"
      ],
      "metadata": {
        "id": "j7xfkqrt5Ag5"
      },
      "execution_count": null,
      "outputs": []
    },
    {
      "cell_type": "code",
      "source": [
        "deliveries_df.columns"
      ],
      "metadata": {
        "id": "h5P9TXVGxyfR"
      },
      "execution_count": null,
      "outputs": []
    },
    {
      "cell_type": "code",
      "source": [],
      "metadata": {
        "id": "wbgijnFLyDvG"
      },
      "execution_count": null,
      "outputs": []
    },
    {
      "cell_type": "code",
      "source": [
        "matches_df.columns"
      ],
      "metadata": {
        "id": "ZAe8VzNEyAj7"
      },
      "execution_count": null,
      "outputs": []
    },
    {
      "cell_type": "code",
      "source": [
        "# Deliveries Dataset Describe"
      ],
      "metadata": {
        "id": "DnOaZdaE5Q5t"
      },
      "execution_count": null,
      "outputs": []
    },
    {
      "cell_type": "code",
      "source": [
        "deliveries_df.describe(include='all')"
      ],
      "metadata": {
        "id": "oYPEpHBUyNSx"
      },
      "execution_count": null,
      "outputs": []
    },
    {
      "cell_type": "code",
      "source": [
        "# Matches Dataset Describe"
      ],
      "metadata": {
        "id": "pAOHLl5HyRCx"
      },
      "execution_count": null,
      "outputs": []
    },
    {
      "cell_type": "code",
      "source": [
        "matches_df.describe(include='all')"
      ],
      "metadata": {
        "id": "Pw-AOJbcyQiD"
      },
      "execution_count": null,
      "outputs": []
    },
    {
      "cell_type": "markdown",
      "source": [
        "### Check Unique Values for each variable."
      ],
      "metadata": {
        "id": "u3PMJOP6ngxN"
      }
    },
    {
      "cell_type": "code",
      "source": [
        "# Check Unique Values for each variable."
      ],
      "metadata": {
        "id": "zms12Yq5n-jE"
      },
      "execution_count": null,
      "outputs": []
    },
    {
      "cell_type": "code",
      "source": [
        "# For Deliveries Dataset"
      ],
      "metadata": {
        "id": "foebNVbUzfR3"
      },
      "execution_count": null,
      "outputs": []
    },
    {
      "cell_type": "code",
      "source": [
        "for i in deliveries_df.columns.tolist():\n",
        "  print(\"No. of unique values in \",i,\"is\",deliveries_df[i].nunique(),\".\")"
      ],
      "metadata": {
        "id": "u2ZZOjd2zKUr"
      },
      "execution_count": null,
      "outputs": []
    },
    {
      "cell_type": "code",
      "source": [
        "# For Matches Dataset"
      ],
      "metadata": {
        "id": "31dcArCPzKQc"
      },
      "execution_count": null,
      "outputs": []
    },
    {
      "cell_type": "code",
      "source": [
        "for i in matches_df.columns.tolist():\n",
        "  print(\"No. of unique values in \",i,\"is\",matches_df[i].nunique(),\".\")"
      ],
      "metadata": {
        "id": "_HT_T4RHzKCR"
      },
      "execution_count": null,
      "outputs": []
    },
    {
      "cell_type": "markdown",
      "source": [
        "## 3. ***Data Wrangling***"
      ],
      "metadata": {
        "id": "dauF4eBmngu3"
      }
    },
    {
      "cell_type": "markdown",
      "source": [
        "### Data Wrangling Code"
      ],
      "metadata": {
        "id": "bKJF3rekwFvQ"
      }
    },
    {
      "cell_type": "code",
      "source": [
        "# Remove duplicates from Deliveries dataset."
      ],
      "metadata": {
        "id": "wk-9a2fpoLcV"
      },
      "execution_count": null,
      "outputs": []
    },
    {
      "cell_type": "code",
      "source": [
        "# Remove duplicates\n",
        "deliveries_df = deliveries_df.drop_duplicates()"
      ],
      "metadata": {
        "id": "4bMqSfjvz_DC"
      },
      "execution_count": null,
      "outputs": []
    },
    {
      "cell_type": "code",
      "source": [
        "# Deliveries Dataset Duplicate Value Count\n",
        "len(deliveries_df[deliveries_df.duplicated()])"
      ],
      "metadata": {
        "id": "LdxHEoBZ0BVS"
      },
      "execution_count": null,
      "outputs": []
    },
    {
      "cell_type": "code",
      "source": [],
      "metadata": {
        "id": "2h7uLS6n0mBL"
      },
      "execution_count": null,
      "outputs": []
    },
    {
      "cell_type": "markdown",
      "source": [
        "* Merging The Datasets\n",
        "\n",
        "\n",
        "\n"
      ],
      "metadata": {
        "id": "SAY-Qe0F0rKl"
      }
    },
    {
      "cell_type": "code",
      "source": [
        "season_data=matches_df[['id','season','winner']]\n",
        "season_data.head()"
      ],
      "metadata": {
        "id": "33hwJTCb0liF"
      },
      "execution_count": null,
      "outputs": []
    },
    {
      "cell_type": "code",
      "source": [
        "complete_data=deliveries_df.merge(season_data,how='inner',left_on='match_id',right_on='id')\n",
        "complete_data.head()"
      ],
      "metadata": {
        "id": "DN11HmJw18ES"
      },
      "execution_count": null,
      "outputs": []
    },
    {
      "cell_type": "code",
      "source": [
        "complete_data. columns"
      ],
      "metadata": {
        "id": "a7QcE2HO2Eyp"
      },
      "execution_count": null,
      "outputs": []
    },
    {
      "cell_type": "markdown",
      "source": [
        "* Now Check For Number Of Matches Won by Team in Each Season\n",
        "\n",
        "*\n",
        "\n"
      ],
      "metadata": {
        "id": "S6DRMsQL21R2"
      }
    },
    {
      "cell_type": "code",
      "source": [
        "wins_per_season = matches_df.groupby(\"season\")[\"winner\"].value_counts()\n",
        "wins_per_season.head()"
      ],
      "metadata": {
        "id": "Y9XA_F7W2viQ"
      },
      "execution_count": null,
      "outputs": []
    },
    {
      "cell_type": "code",
      "source": [],
      "metadata": {
        "id": "TDj0Z2832vWm"
      },
      "execution_count": null,
      "outputs": []
    },
    {
      "cell_type": "markdown",
      "source": [
        "### Data Vizualization "
      ],
      "metadata": {
        "id": "GF8Ens_Soomf"
      }
    },
    {
      "cell_type": "code",
      "source": [
        "total_teams = list(set(matches_df['team1'].unique()) & set(matches_df['team2'].unique()))\n",
        "print(total_teams)\n"
      ],
      "metadata": {
        "id": "Mrdr8QGg7gzM"
      },
      "execution_count": null,
      "outputs": []
    },
    {
      "cell_type": "code",
      "source": [
        "print(len(total_teams))"
      ],
      "metadata": {
        "id": "HbOIF4nh8IjE"
      },
      "execution_count": null,
      "outputs": []
    },
    {
      "cell_type": "markdown",
      "source": [
        "**chart 1**"
      ],
      "metadata": {
        "id": "KSlN3yHqYklG"
      }
    },
    {
      "cell_type": "code",
      "source": [
        "# Chart - 1 visualization code"
      ],
      "metadata": {
        "id": "R4YgtaqtYklH"
      },
      "execution_count": null,
      "outputs": []
    },
    {
      "cell_type": "code",
      "source": [
        "\n",
        "\n",
        "season_counts = matches_df['season'].value_counts().sort_index()\n",
        "plt.figure(figsize=(16, 8))\n",
        "plt.bar(season_counts.index, season_counts.values, color='purple')\n",
        "plt.title(\"Number of Matches played in each IPL season\", fontsize=20)\n",
        "plt.xlabel(\"Season\", fontsize=15)\n",
        "plt.ylabel(\"Matches played\", fontsize=15)\n",
        "plt.show()\n",
        "\n"
      ],
      "metadata": {
        "id": "q9ifBwGT-Mgl"
      },
      "execution_count": null,
      "outputs": []
    },
    {
      "cell_type": "markdown",
      "source": [
        "#### Chart - 2"
      ],
      "metadata": {
        "id": "EM7whBJCYoAo"
      }
    },
    {
      "cell_type": "code",
      "source": [
        "# Chart - 2 visualization code"
      ],
      "metadata": {
        "id": "t6GMdE67YoAp"
      },
      "execution_count": null,
      "outputs": []
    },
    {
      "cell_type": "code",
      "source": [
        "\n",
        "\n",
        "plt.figure(figsize=(18, 10))\n",
        "sns.countplot(x='winner', data=matches_df, palette='cool')\n",
        "plt.title(\"Numbers of matches won by each team\", fontsize=20)\n",
        "plt.xticks(rotation=50)\n",
        "plt.xlabel(\"Teams\", fontsize=15)\n",
        "plt.ylabel(\"Number of wins\", fontsize=15)\n",
        "plt.show()\n"
      ],
      "metadata": {
        "id": "OMXIBjrlBljv"
      },
      "execution_count": null,
      "outputs": []
    },
    {
      "cell_type": "markdown",
      "source": [
        "#### Chart - 3"
      ],
      "metadata": {
        "id": "4Of9eVA-YrdM"
      }
    },
    {
      "cell_type": "code",
      "source": [
        "# Chart - 3 visualization code"
      ],
      "metadata": {
        "id": "irlUoxc8YrdO"
      },
      "execution_count": null,
      "outputs": []
    },
    {
      "cell_type": "code",
      "source": [
        "import plotly.express as px\n",
        "\n",
        "fig = px.box(complete_data, x='batting_team', y='total_runs', color='batting_team',\n",
        "title='Distribution of Runs by Batting Team',\n",
        "labels={'batting_team': 'Batting Team', 'total_runs': 'Total Runs'},\n",
        "width=800, height=600)\n",
        "\n",
        "fig.update_traces(boxmean=True)\n",
        "fig.update_layout(legend=dict(title=None))\n",
        "\n",
        "fig.show()"
      ],
      "metadata": {
        "id": "G1rjQcctjvrM"
      },
      "execution_count": null,
      "outputs": []
    },
    {
      "cell_type": "markdown",
      "source": [
        "# Chart-4"
      ],
      "metadata": {
        "id": "tM860wo3rEPl"
      }
    },
    {
      "cell_type": "code",
      "source": [
        "# Chart - 4 visualization code"
      ],
      "metadata": {
        "id": "xY1kd4SqqwgW"
      },
      "execution_count": null,
      "outputs": []
    },
    {
      "cell_type": "code",
      "source": [
        "# Set up the data\n",
        "toss_win_match_win = matches_df[matches_df['toss_winner'] == matches_df['winner']]\n",
        "slices = [len(toss_win_match_win), (len(matches_df) - len(toss_win_match_win))]\n",
        "labels = ['Toss and Match Win', 'Toss Win but Match Lose']\n",
        "\n",
        "# Set the color scheme\n",
        "colors = ['#1abc9c', '#d35400']  # Teal and Orange\n",
        "plt.figure(figsize = (6,6))\n",
        "\n",
        "# Create the pie chart\n",
        "plt.pie(slices, labels=labels, autopct='%1.1f%%', startangle=90, colors=colors, wedgeprops=dict(width=0.4))\n",
        "plt.title('Toss and Match Win Percentage', fontsize=14, fontweight='bold')\n",
        "\n",
        "# Show the plot\n",
        "plt.show()\n"
      ],
      "metadata": {
        "id": "iEXxWvg7OSKW"
      },
      "execution_count": null,
      "outputs": []
    },
    {
      "cell_type": "markdown",
      "source": [
        "# Chart-5"
      ],
      "metadata": {
        "id": "bamQiAODYuh1"
      }
    },
    {
      "cell_type": "markdown",
      "source": [
        "* Calculate the number of tosses won by  the top 10 teams\n",
        "\n",
        "\n"
      ],
      "metadata": {
        "id": "ESAsH6jQWK0_"
      }
    },
    {
      "cell_type": "code",
      "source": [
        "# Chart - 5 visualization code"
      ],
      "metadata": {
        "id": "TIJwrbroYuh3"
      },
      "execution_count": null,
      "outputs": []
    },
    {
      "cell_type": "code",
      "source": [
        "\n",
        "plt.subplots(figsize=(10, 7))\n",
        "top_10 = matches_df['toss_winner'].value_counts().nlargest(10)\n",
        "values = top_10.values\n",
        "labels = top_10.index\n",
        "colors = ['orange', 'yellowgreen', 'lightcoral', 'lightskyblue', 'pink', 'purple', 'red', 'green', 'blue', 'gray']\n",
        "explode = [0.1] * len(labels) \n",
        "plt.pie(values, labels=labels, colors=colors, explode=explode, autopct='%1.1f%%', startangle=90)\n",
        "plt.title(\"Maximum Toss Won by Top 10 Teams\")\n",
        "plt.show()\n",
        "\n"
      ],
      "metadata": {
        "id": "qzawQNQaTnQ1"
      },
      "execution_count": null,
      "outputs": []
    },
    {
      "cell_type": "markdown",
      "source": [
        "#### Chart - 6"
      ],
      "metadata": {
        "id": "OH-pJp9IphqM"
      }
    },
    {
      "cell_type": "code",
      "source": [
        "# Chart - 6 visualization code"
      ],
      "metadata": {
        "id": "kuRf4wtuphqN"
      },
      "execution_count": null,
      "outputs": []
    },
    {
      "cell_type": "code",
      "source": [
        "# Create the bar chart and change bar color to 'tab:red'\n",
        "matches_df.winner.value_counts().plot(kind='bar', color='tab:red', figsize=(10, 7))\n",
        "\n",
        "# Add a title and labels\n",
        "plt.title('Number of Wins by Each Team - Overall', fontsize=20, fontweight='bold')\n",
        "plt.xlabel('Teams', fontsize=14, fontweight='bold')\n",
        "plt.ylabel('Count', fontsize=14, fontweight='bold')\n",
        "\n",
        "# Show the plot\n",
        "plt.show()\n"
      ],
      "metadata": {
        "id": "evQn9j-4Xrwv"
      },
      "execution_count": null,
      "outputs": []
    },
    {
      "cell_type": "markdown",
      "source": [
        "#### Chart - 7"
      ],
      "metadata": {
        "id": "PIIx-8_IphqN"
      }
    },
    {
      "cell_type": "code",
      "source": [
        "# Chart - 7 visualization code"
      ],
      "metadata": {
        "id": "lqAIGUfyphqO"
      },
      "execution_count": null,
      "outputs": []
    },
    {
      "cell_type": "code",
      "source": [
        "\n",
        "\n",
        "# Calculate the strike rate for each batsman\n",
        "complete_data['strike_rate'] = (complete_data['batsman_runs'] / complete_data['ball']) * 100\n",
        "\n",
        "# Get the highest strike rate and the corresponding batsman\n",
        "highest_strike_rate = complete_data.groupby('batsman')['strike_rate'].mean().sort_values(ascending=False).iloc[0]\n",
        "highest_strike_rate_batsman = complete_data.groupby('batsman')['strike_rate'].mean().sort_values(ascending=False).index[0]\n",
        "\n",
        "# Print the result\n",
        "print(\"The batsman with the highest strike rate in the IPL overall is\", highest_strike_rate_batsman, \"with a strike rate of\", round(highest_strike_rate,2))\n"
      ],
      "metadata": {
        "id": "FBVBBmhTbcWw"
      },
      "execution_count": null,
      "outputs": []
    },
    {
      "cell_type": "markdown",
      "source": [
        "#### Chart - 8"
      ],
      "metadata": {
        "id": "BZR9WyysphqO"
      }
    },
    {
      "cell_type": "code",
      "source": [
        "# Chart - 8 visualization code"
      ],
      "metadata": {
        "id": "TdPTWpAVphqO"
      },
      "execution_count": null,
      "outputs": []
    },
    {
      "cell_type": "code",
      "source": [
        "\n",
        "\n",
        "# Group the data by match and team and calculate the total runs scored by each team in a match\n",
        "team_runs = complete_data.groupby(['match_id', 'batting_team'])['total_runs'].sum().reset_index()\n",
        "\n",
        "# Plot the distribution of runs scored by each team using a boxplot\n",
        "plt.figure(figsize=(20, 7))\n",
        "sns.boxplot(x='batting_team', y='total_runs', data=team_runs, palette='husl')\n",
        "plt.title('Distribution of Runs Scored by Each Team in a Match', fontsize=16, fontweight='bold')\n",
        "plt.xlabel('Team', fontsize=12, fontweight='bold')\n",
        "plt.ylabel('Runs Scored', fontsize=12, fontweight='bold')\n",
        "plt.show()\n"
      ],
      "metadata": {
        "id": "OqDyIMnpcgMy"
      },
      "execution_count": null,
      "outputs": []
    },
    {
      "cell_type": "markdown",
      "source": [
        "#### Chart - 9"
      ],
      "metadata": {
        "id": "YJ55k-q6phqO"
      }
    },
    {
      "cell_type": "code",
      "source": [
        "# Chart - 9 visualization code"
      ],
      "metadata": {
        "id": "B2aS4O1ophqO"
      },
      "execution_count": null,
      "outputs": []
    },
    {
      "cell_type": "code",
      "source": [
        "\n",
        "\n",
        "# Count the number of matches won by each team\n",
        "matches_won = complete_data['winner'].value_counts()\n",
        "\n",
        "# Get the top 5 teams with the most matches won\n",
        "top_5 = matches_won.head(5)\n",
        "\n",
        "# Create a pie chart to visualize the top 5 teams\n",
        "plt.figure(figsize=(8, 8))\n",
        "plt.pie(top_5, labels=top_5.index, autopct='%1.1f%%')\n",
        "plt.title('Top 5 Teams with the Most Matches Won', fontsize=16, fontweight='bold')\n",
        "plt.show()\n"
      ],
      "metadata": {
        "id": "schG8O6EeTuB"
      },
      "execution_count": null,
      "outputs": []
    },
    {
      "cell_type": "markdown",
      "source": [
        "#### Chart - 10"
      ],
      "metadata": {
        "id": "U2RJ9gkRphqQ"
      }
    },
    {
      "cell_type": "code",
      "source": [
        "# Chart - 10 visualization code"
      ],
      "metadata": {
        "id": "GM7a4YP4phqQ"
      },
      "execution_count": null,
      "outputs": []
    },
    {
      "cell_type": "code",
      "source": [
        "plt.figure(figsize=(16, 8))\n",
        "sns.countplot(x='season', hue='toss_decision', data=matches_df, palette=['#008080', '#FF6347'])\n",
        "plt.title('Number of Matches Won by Toss Result', fontsize=20)\n",
        "plt.xlabel('Season', fontsize=15)\n",
        "plt.ylabel('Count', fontsize=15)\n",
        "plt.xticks(fontsize=12)\n",
        "plt.yticks(fontsize=12)\n",
        "plt.legend(fontsize=12, title='Toss Decision', title_fontsize=14)\n",
        "plt.show()\n"
      ],
      "metadata": {
        "id": "JJJs-1L4f3PN"
      },
      "execution_count": null,
      "outputs": []
    },
    {
      "cell_type": "markdown",
      "source": [
        "#### Chart - 11"
      ],
      "metadata": {
        "id": "x-EpHcCOp1ci"
      }
    },
    {
      "cell_type": "code",
      "source": [
        "# Chart - 11 visualization code"
      ],
      "metadata": {
        "id": "mAQTIvtqp1cj"
      },
      "execution_count": null,
      "outputs": []
    },
    {
      "cell_type": "code",
      "source": [
        "# Group the data by batsman and sum the total runs scored by each batsman\n",
        "batsman_runs = deliveries_df.groupby('batsman')['batsman_runs'].sum()\n",
        "\n",
        "# Sort the batsman_runs Series in descending order and take the top 10 rows\n",
        "top_batsmen = batsman_runs.sort_values(ascending=False)[:10]\n",
        "\n",
        "# Create a bar chart to show the top 10 batsmen by total runs scored\n",
        "plt.figure(figsize=(12, 6))\n",
        "sns.barplot(x=top_batsmen.index, y=top_batsmen.values, palette='GnBu_r')\n",
        "plt.title('Top 10 Batsmen by Total Runs Scored in IPL', fontsize=20)\n",
        "plt.xlabel('Batsman', fontsize=15)\n",
        "plt.ylabel('Total Runs Scored', fontsize=15)\n",
        "plt.xticks(fontsize=12, rotation=45, ha='right')\n",
        "plt.yticks(fontsize=12)\n",
        "plt.show()"
      ],
      "metadata": {
        "id": "qfF-QLAkguXN"
      },
      "execution_count": null,
      "outputs": []
    },
    {
      "cell_type": "markdown",
      "source": [
        "#### Chart - 12"
      ],
      "metadata": {
        "id": "n3dbpmDWp1ck"
      }
    },
    {
      "cell_type": "code",
      "source": [
        "# Chart - 12 visualization code"
      ],
      "metadata": {
        "id": "bwevp1tKp1ck"
      },
      "execution_count": null,
      "outputs": []
    },
    {
      "cell_type": "code",
      "source": [
        "wickets_df = deliveries_df[deliveries_df.dismissal_kind.notnull()]\n",
        "wickets_df = wickets_df.groupby('bowler')['dismissal_kind'].count().reset_index()\n",
        "\n",
        "# Sort the data by wickets taken and get the top 10 bowlers\n",
        "top_bowlers = wickets_df.sort_values(by='dismissal_kind', ascending=False).head(10)\n",
        "\n",
        "# Create a bar plot to show the top 10 bowlers with most number of wickets\n",
        "plt.figure(figsize=(12,6))\n",
        "sns.barplot(x='bowler', y='dismissal_kind', data=top_bowlers, palette='winter')\n",
        "plt.title('Top 10 Bowlers with Most Number of Wickets', fontsize=16, fontweight='bold')\n",
        "plt.xlabel('Bowler', fontsize=12, fontweight='bold')\n",
        "plt.ylabel('Number of Wickets', fontsize=12, fontweight='bold')\n",
        "plt.xticks(fontsize=10)\n",
        "plt.yticks(fontsize=10)\n",
        "plt.show()"
      ],
      "metadata": {
        "id": "jQm8_8qHhPkE"
      },
      "execution_count": null,
      "outputs": []
    },
    {
      "cell_type": "markdown",
      "source": [
        "# **Conclusion**"
      ],
      "metadata": {
        "id": "gCX9965dhzqZ"
      }
    },
    {
      "cell_type": "markdown",
      "source": [
        "* Total number of teams participating (Team names and its size) : participates 15 \n",
        "Teams & Team names are Rising Pune Supergiants', 'Kolkata Knight Riders', 'Kings XI Punjab', 'Chennai Super Kings', 'Rajasthan Royals', 'Sunrisers Hyderabad', 'Rising Pune Supergiant', 'Gujarat Lions', 'Royal Challengers Bangalore', 'Delhi Daredevils', 'Deccan Chargers', 'Pune Warriors', 'Kochi Tuskers Kerala', 'Delhi Capitals', 'Mumbai Indians'\n",
        "* The highest number of match played in IPL season was 2013,2014,2015.\n",
        "* Numbers of matches won by team : 'Mumbai Indians' And 'Chennai Super Kings'\n",
        "*  Toss and Match Win : 52%\n",
        "\n",
        "* Toss Win but Match Lose : 48%\n",
        "*  Mumbai Indians 23.7 % And  'Chennai Super Kings' 21.7% these both teams have maximum  won.\n",
        "*  virat kohli and sk raina has maximum scored in ipl\n",
        "* SL Malinga and DJ Bravo has get most of wickets in ipl"
      ],
      "metadata": {
        "id": "Fjb1IsQkh3yE"
      }
    }
  ]
}